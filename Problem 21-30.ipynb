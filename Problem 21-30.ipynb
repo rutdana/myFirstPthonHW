{
 "cells": [
  {
   "cell_type": "markdown",
   "metadata": {},
   "source": [
    "# Python Practice Book#\n",
    "## 21-30#\n"
   ]
  },
  {
   "cell_type": "markdown",
   "metadata": {},
   "source": [
    "#Problem21"
   ]
  },
  {
   "cell_type": "code",
   "execution_count": 1,
   "metadata": {},
   "outputs": [
    {
     "name": "stdout",
     "output_type": "stream",
     "text": [
      "6\n",
      "6\n"
     ]
    }
   ],
   "source": [
    "listA=[1,2,3]\n",
    "listA\n",
    "sum(listA)\n",
    "sumlist=0\n",
    "for i in listA:\n",
    "          sumlist+= i\n",
    "print(sumlist)\n",
    "def sumlist(listA):\n",
    "    sumlist=0\n",
    "    for i in listA:\n",
    "        sumlist +=i\n",
    "    return(sumlist)\n",
    "sumlist1 = sumlist(listA)\n",
    "print(sumlist1)"
   ]
  },
  {
   "cell_type": "markdown",
   "metadata": {},
   "source": [
    "#Problem22"
   ]
  },
  {
   "cell_type": "code",
   "execution_count": 14,
   "metadata": {},
   "outputs": [
    {
     "name": "stdout",
     "output_type": "stream",
     "text": [
      " helloworld\n",
      " aaabbbccc\n"
     ]
    }
   ],
   "source": [
    "def sumlist (list):\n",
    "    sumlist=' '\n",
    "    for i in list :\n",
    "        sumlist +=i\n",
    "    return sumlist\n",
    "a=['hello','world']\n",
    "b=['aaa','bbb','ccc']\n",
    "print(sumlist(a))\n",
    "print(sumlist(b))"
   ]
  },
  {
   "cell_type": "markdown",
   "metadata": {},
   "source": [
    "#Problem23"
   ]
  },
  {
   "cell_type": "code",
   "execution_count": 17,
   "metadata": {},
   "outputs": [
    {
     "name": "stdout",
     "output_type": "stream",
     "text": [
      "720\n"
     ]
    }
   ],
   "source": [
    "a=[8,9,10]\n",
    "def product(a):\n",
    "    product = 1\n",
    "    for i in a :\n",
    "        product *=i\n",
    "    return(product)\n",
    "producta = product(a)\n",
    "print(producta)"
   ]
  },
  {
   "cell_type": "markdown",
   "metadata": {},
   "source": [
    "#Problem24"
   ]
  },
  {
   "cell_type": "code",
   "execution_count": 12,
   "metadata": {},
   "outputs": [],
   "source": [
    "def factorialN(n):\n",
    "    if n < 0:\n",
    "        print('Error: factorila cannot less than o ')\n",
    "        return(-1)\n",
    "    elif n == 0:\n",
    "        return(1)\n",
    "    else:\n",
    "        j = 1\n",
    "        for i in range(1,n+1):\n",
    "            print(i)\n",
    "            j *= i\n",
    "    return j"
   ]
  },
  {
   "cell_type": "code",
   "execution_count": 16,
   "metadata": {},
   "outputs": [
    {
     "name": "stdout",
     "output_type": "stream",
     "text": [
      "1\n",
      "2\n",
      "3\n",
      "4\n",
      "5\n"
     ]
    },
    {
     "data": {
      "text/plain": [
       "120"
      ]
     },
     "execution_count": 16,
     "metadata": {},
     "output_type": "execute_result"
    }
   ],
   "source": [
    "factorialN(5)"
   ]
  },
  {
   "cell_type": "markdown",
   "metadata": {},
   "source": [
    "#Problem25"
   ]
  },
  {
   "cell_type": "code",
   "execution_count": 19,
   "metadata": {},
   "outputs": [
    {
     "name": "stdout",
     "output_type": "stream",
     "text": [
      "[1, 2, 3]\n"
     ]
    }
   ],
   "source": [
    "lista = [1,2,3,4]\n",
    "print(listA)"
   ]
  },
  {
   "cell_type": "code",
   "execution_count": 20,
   "metadata": {},
   "outputs": [
    {
     "data": {
      "text/plain": [
       "[3, 2, 1]"
      ]
     },
     "execution_count": 20,
     "metadata": {},
     "output_type": "execute_result"
    }
   ],
   "source": [
    "def reverse(listA):\n",
    "    listALen = len(listA) - 1\n",
    "    reverseListA = []\n",
    "    for i in range(len(listA)) :\n",
    "        reverseListA.append(listA[listALen-i])\n",
    "    return(reverseListA)\n",
    "reverse(listA)"
   ]
  },
  {
   "cell_type": "markdown",
   "metadata": {},
   "source": [
    "#Problem26"
   ]
  },
  {
   "cell_type": "code",
   "execution_count": 51,
   "metadata": {},
   "outputs": [
    {
     "name": "stdout",
     "output_type": "stream",
     "text": [
      "Max : 23\n",
      "Min : 2\n"
     ]
    }
   ],
   "source": [
    "def max_i(list):\n",
    "    max ,min = 0,list[0]\n",
    "    for i in list:\n",
    "        if max < i :\n",
    "            max = i\n",
    "    return max\n",
    "    \n",
    "    \n",
    "def min_i(list):\n",
    "    max ,min = 0,list[0]\n",
    "    for i in list :\n",
    "        if min > i :\n",
    "            min = i\n",
    "    return min\n",
    "list=[3,5,7,9,2,4,6,8,23]\n",
    "print(\"Max : {}\".format(max_i(list)))\n",
    "print(\"Min : {}\".format(min_i(list)))"
   ]
  },
  {
   "cell_type": "markdown",
   "metadata": {},
   "source": [
    "#Problem27"
   ]
  },
  {
   "cell_type": "code",
   "execution_count": 13,
   "metadata": {},
   "outputs": [
    {
     "data": {
      "text/plain": [
       "['a',\n",
       " 'ab',\n",
       " 'abb',\n",
       " 'abbd',\n",
       " 'abbde',\n",
       " 'abbdef',\n",
       " 'abbdefg',\n",
       " 'abbdefgh',\n",
       " 'abbdefghi',\n",
       " 'abbdefghij',\n",
       " 'abbdefghijk',\n",
       " 'abbdefghijkl',\n",
       " 'abbdefghijklm',\n",
       " 'abbdefghijklmn',\n",
       " 'abbdefghijklmno',\n",
       " 'abbdefghijklmnop',\n",
       " 'abbdefghijklmnopq',\n",
       " 'abbdefghijklmnopqr',\n",
       " 'abbdefghijklmnopqrs',\n",
       " 'abbdefghijklmnopqrst',\n",
       " 'abbdefghijklmnopqrstu',\n",
       " 'abbdefghijklmnopqrstuv',\n",
       " 'abbdefghijklmnopqrstuvw',\n",
       " 'abbdefghijklmnopqrstuvws',\n",
       " 'abbdefghijklmnopqrstuvwsy',\n",
       " 'abbdefghijklmnopqrstuvwsyz']"
      ]
     },
     "execution_count": 13,
     "metadata": {},
     "output_type": "execute_result"
    }
   ],
   "source": [
    "\n",
    "listB = ['a' ,'b' ,'b' ,'d' ,'e' ,'f' ,'g' ,'h' ,'i' ,'j' ,'k' ,'l' ,'m' ,'n' ,'o' ,'p' ,'q' ,'r' ,'s' ,'t' ,'u' ,'v' ,'w' ,'s' ,'y' ,'z']\n",
    "def cumulative_sum(x):\n",
    "    cumulative_Value = x[0]\n",
    "    cumulative_List = [ ]\n",
    "    cumulative_List.append(cumulative_Value)\n",
    "    for i in range(1,len(x)): \n",
    "        cumulative_Value = cumulative_Value + x[i]\n",
    "        cumulative_List.append(cumulative_Value)\n",
    "    return cumulative_List\n",
    "cumulative_sum(listB)"
   ]
  },
  {
   "cell_type": "markdown",
   "metadata": {},
   "source": [
    "#Problem28"
   ]
  },
  {
   "cell_type": "code",
   "execution_count": 10,
   "metadata": {},
   "outputs": [
    {
     "data": {
      "text/plain": [
       "[1, 2, 6, 24]"
      ]
     },
     "execution_count": 10,
     "metadata": {},
     "output_type": "execute_result"
    }
   ],
   "source": [
    "def cumulative_product(x):\n",
    "    cumulative_Value = x[0]\n",
    "    cumulative_List = [ ]\n",
    "    cumulative_List.append(cumulative_Value)\n",
    "    for i in range(1,len(x)):\n",
    "        cumulative_Value = cumulative_Value * x[i]\n",
    "        cumulative_List.append(cumulative_Value)\n",
    "    return cumulative_List\n",
    "cumulative_product([1 ,2 ,3 ,4])"
   ]
  },
  {
   "cell_type": "code",
   "execution_count": 12,
   "metadata": {},
   "outputs": [
    {
     "data": {
      "text/plain": [
       "[4, 12, 24, 24]"
      ]
     },
     "execution_count": 12,
     "metadata": {},
     "output_type": "execute_result"
    }
   ],
   "source": [
    "cumulative_product([4 ,3 ,2 ,1])"
   ]
  },
  {
   "cell_type": "markdown",
   "metadata": {},
   "source": [
    "#Problem29"
   ]
  },
  {
   "cell_type": "code",
   "execution_count": 25,
   "metadata": {},
   "outputs": [
    {
     "data": {
      "text/plain": [
       "[1, 2, 3, 5]"
      ]
     },
     "execution_count": 25,
     "metadata": {},
     "output_type": "execute_result"
    }
   ],
   "source": [
    "def unique(lists):\n",
    "    unique=[]\n",
    "    for i in lists:\n",
    "        if i not in unique :\n",
    "            unique.append(i)\n",
    "    return unique\n",
    "unique([1,2,1,3,2,5])"
   ]
  },
  {
   "cell_type": "markdown",
   "metadata": {},
   "source": [
    "#Problem30"
   ]
  },
  {
   "cell_type": "code",
   "execution_count": 9,
   "metadata": {},
   "outputs": [
    {
     "data": {
      "text/plain": [
       "[1, 2]"
      ]
     },
     "execution_count": 9,
     "metadata": {},
     "output_type": "execute_result"
    }
   ],
   "source": [
    "def dups(x):\n",
    "    indups = []\n",
    "    for i in range(len(x)):\n",
    "        for k in range (i + 1, len(x)):\n",
    "            if x[k]==x[i]:\n",
    "                indups.append(x[k])\n",
    "    return indups\n",
    "dups([1 ,2 ,1 ,3 ,2 ,5])"
   ]
  }
 ],
 "metadata": {
  "kernelspec": {
   "display_name": "Python 3",
   "language": "python",
   "name": "python3"
  },
  "language_info": {
   "codemirror_mode": {
    "name": "ipython",
    "version": 3
   },
   "file_extension": ".py",
   "mimetype": "text/x-python",
   "name": "python",
   "nbconvert_exporter": "python",
   "pygments_lexer": "ipython3",
   "version": "3.7.6"
  }
 },
 "nbformat": 4,
 "nbformat_minor": 4
}
