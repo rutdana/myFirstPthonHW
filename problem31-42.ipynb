{
 "metadata": {
  "language_info": {
   "codemirror_mode": {
    "name": "ipython",
    "version": 3
   },
   "file_extension": ".py",
   "mimetype": "text/x-python",
   "name": "python",
   "nbconvert_exporter": "python",
   "pygments_lexer": "ipython3",
   "version": "3.6.8-final"
  },
  "orig_nbformat": 2,
  "kernelspec": {
   "name": "Python 3.6.8 64-bit",
   "display_name": "Python 3.6.8 64-bit",
   "metadata": {
    "interpreter": {
     "hash": "58bc13ec4dd135858b8220102d0ad3358f57eb64d131366ec25c4d4365eacf63"
    }
   }
  }
 },
 "nbformat": 4,
 "nbformat_minor": 2,
 "cells": [
  {
   "cell_type": "code",
   "execution_count": null,
   "metadata": {},
   "outputs": [],
   "source": [
    "# Problem 31: Write a function group(list, size) that take a list and splits into smaller lists of given size.\n",
    "\n",
    "def group(inList, size):\n",
    "    res = []\n",
    "    while inList != []:\n",
    "        res += [inList[:size]]\n",
    "        inList = inList[size:]\n",
    "    return(res)\n",
    "\n",
    "group([1, 2, 3, 4, 5, 6, 7, 8, 9], 3) #[[1, 2, 3], [4, 5, 6], [7, 8, 9]]\n",
    "# group([1, 2, 3, 4, 5, 6, 7, 8, 9], 4) #[[1, 2, 3, 4], [5, 6, 7, 8], [9]]"
   ]
  },
  {
   "cell_type": "code",
   "execution_count": 10,
   "metadata": {},
   "outputs": [
    {
     "output_type": "execute_result",
     "data": {
      "text/plain": [
       "['c', 'java', 'perl', 'ruby', 'python', 'haskell']"
      ]
     },
     "metadata": {},
     "execution_count": 10
    }
   ],
   "source": [
    "# Problem 32: Write a function lensort to sort a list of strings based on length.\n",
    "\n",
    "def lensort(inList):\n",
    "    return [e for [i,e] in sorted([[len(e),e] for e in inList])]\n",
    "\n",
    "lensort(['python', 'perl', 'java', 'c', 'haskell', 'ruby']) \n",
    "# ['c', 'perl', 'java', 'ruby', 'python', 'haskell']"
   ]
  },
  {
   "cell_type": "code",
   "execution_count": 11,
   "metadata": {},
   "outputs": [
    {
     "output_type": "execute_result",
     "data": {
      "text/plain": [
       "['c', 'java', 'perl', 'ruby', 'python', 'haskell']"
      ]
     },
     "metadata": {},
     "execution_count": 11
    }
   ],
   "source": [
    "# Problem 32: Write a function lensort to sort a list of strings based on length.\n",
    "\n",
    "def lensort(inList):\n",
    "    return [e[1] for e in sorted([[len(e),e] for e in inList])]\n",
    "\n",
    "lensort(['python', 'perl', 'java', 'c', 'haskell', 'ruby']) \n",
    "# ['c', 'perl', 'java', 'ruby', 'python', 'haskell']"
   ]
  },
  {
   "cell_type": "code",
   "execution_count": null,
   "metadata": {},
   "outputs": [],
   "source": [
    "# Problem 33: Improve the unique function written in previous problems to take an optional key function as argu- ment and use the return value of the key function to check for uniqueness.\n",
    "\n",
    "def unique(inList, key=lambda s: s):\n",
    "    l, res = [key(e) for e in inList], []\n",
    "    while l != []:\n",
    "        res += [l.pop(0)]\n",
    "        while res[-1] in l : l.remove(res[-1])         \n",
    "    return res\n",
    "\n",
    "unique([\"python\", \"java\", \"Python\", \"Java\"], key=lambda s: s.lower())\n",
    "#[\"python\", \"java\"]"
   ]
  },
  {
   "cell_type": "code",
   "execution_count": null,
   "metadata": {},
   "outputs": [],
   "source": [
    "# Problem 34: Reimplement the unique function implemented in the earlier examples using sets.\n",
    "\n",
    "def unique(inList):\n",
    "    return list(set(inList))\n",
    "\n",
    "unique([1, 2, 1, 3, 2, 5])\n",
    "# [1, 2, 3, 5]"
   ]
  },
  {
   "cell_type": "code",
   "execution_count": null,
   "metadata": {},
   "outputs": [],
   "source": [
    "# Problem 35: Write a function extsort to sort a list of files based on extension.\n",
    "\n",
    "def extsort(inList):\n",
    "    return ['.'.join(e) for e in sorted([e.split('.') for e in inList],key=lambda s: s[1])]\n",
    "\n",
    "extsort(['a.c', 'a.py', 'b.py', 'bar.txt', 'foo.txt', 'x.c']) \n",
    "# ['a.c', 'x.c', 'a.py', 'b.py', 'bar.txt', 'foo.txt']"
   ]
  },
  {
   "cell_type": "code",
   "execution_count": null,
   "metadata": {},
   "outputs": [],
   "source": [
    "# Problem 36: Write a program reverse.py to print lines of a file in reverse order.\n",
    "\n",
    "# $ cat she.txt\n",
    "# She sells seashells on the seashore;\n",
    "# The shells that she sells are seashells I'm sure. So if she sells seashells on the seashore,\n",
    "# I'm sure that the shells are seashore shells.\n",
    "# $ python reverse.py she.txt\n",
    "# I'm sure that the shells are seashore shells.\n",
    "# So if she sells seashells on the seashore,\n",
    "# The shells that she sells are seashells I'm sure. She sells seashells on the seashore;\n",
    "\n",
    "# for line in open(f):\n",
    "\n",
    "def linecount(filename):\n",
    "    return len(open(filename).readlines())\n",
    "\n",
    "def reverse(filename):\n",
    "    line = open(filename).readlines()\n",
    "    print(''.join(line[::-1]))\n",
    "\n",
    "reverse('she.txt')"
   ]
  },
  {
   "cell_type": "code",
   "execution_count": null,
   "metadata": {},
   "outputs": [],
   "source": [
    "# reverse.py \n",
    "import sys\n",
    "line = open(sys.argv[1]).readlines()\n",
    "print(''.join(line[::-1]))"
   ]
  },
  {
   "cell_type": "code",
   "execution_count": null,
   "metadata": {},
   "outputs": [],
   "source": [
    "# Problem 37: Write a program to print each line of a file in reverse order.\n",
    "\n",
    "def reverse37(filename):\n",
    "    line = open(filename).readlines()\n",
    "    for e in line:\n",
    "        print(e.strip()[::-1])\n",
    "\n",
    "reverse37('she.txt')"
   ]
  },
  {
   "cell_type": "code",
   "execution_count": null,
   "metadata": {},
   "outputs": [],
   "source": [
    "# Problem 38: Implement unix commands head and tail. The head and tail commands take a file as argu-ment and prints its first and last 10 lines of the file respectively.\n",
    "\n",
    "# head.py \n",
    "import sys\n",
    "\n",
    "line = open(sys.argv[1]).readlines()\n",
    "print(''.join(line[:10]))\n",
    "\n",
    "\n",
    "# tail.py \n",
    "import sys\n",
    "\n",
    "line = open(sys.argv[1]).readlines()\n",
    "print(''.join(line[-10:]))\n"
   ]
  },
  {
   "cell_type": "code",
   "execution_count": null,
   "metadata": {},
   "outputs": [],
   "source": [
    "# Problem 39: Implement unix command grep. The grep command takes a string and a file as arguments and prints all lines in the file which contain the specified string.\n",
    "\n",
    "# grep.py \n",
    "import sys\n",
    "\n",
    "line = open(sys.argv[1]).readlines()\n",
    "print(''.join([e for e in line if sys.argv[2] in e]), end='')\n"
   ]
  },
  {
   "cell_type": "code",
   "execution_count": null,
   "metadata": {},
   "outputs": [],
   "source": [
    "# Problem 40: Write a program wrap.py that takes filename and width as aruguments and wraps the lines longer than width.\n",
    "\n",
    "# wrap.py\n",
    "import sys\n",
    "\n",
    "line = open(sys.argv[1]).readlines()\n",
    "for e in line:\n",
    "    e = e.strip()\n",
    "    while len(e) >= int(sys.argv[2]):\n",
    "        print(e[:int(sys.argv[2])])\n",
    "        e = e[int(sys.argv[2]):]\n",
    "        if len(e) < int(sys.argv[2]):\n",
    "            print(e)\n"
   ]
  },
  {
   "cell_type": "code",
   "execution_count": 112,
   "metadata": {},
   "outputs": [
    {
     "output_type": "stream",
     "name": "stdout",
     "text": [
      "She sells seashells on the\nseashore;\nThe shells that she sells\nsells are seashells I'm sure.\nsure.\nSo if she sells seashells\nseashells on the seashore,\nseashore,\nI'm sure that the shells\nshells are seashore shells.\nshells.\n"
     ]
    }
   ],
   "source": [
    "# Problem 41: The above wrap program is not so nice because it is breaking the line at middle of any word. Can you write a new program wordwrap.py that works like wrap.py, but breaks the line only at the word boundaries?\n",
    "\n",
    "# wordwrap.py\n",
    "\n",
    "import sys\n",
    "# f = sys.argv[1]\n",
    "# c = int(sys.argv[2])\n",
    "f = 'she.txt'\n",
    "c = int('30')\n",
    "\n",
    "line = open(f).readlines()\n",
    "for e in line:\n",
    "    e,a = e.split(),0\n",
    "    for i in e:\n",
    "        if a == 0 :\n",
    "            a += len(i)\n",
    "            print(i,end='')\n",
    "        elif a > 0 and a + len(i) < c:\n",
    "            a += len(i)+1\n",
    "            print(' '+i,end='')\n",
    "        if a + len(i) >= c:\n",
    "            print('\\n'+i,end='')\n",
    "            a = len(i)\n",
    "    print()\n"
   ]
  },
  {
   "cell_type": "code",
   "execution_count": 9,
   "metadata": {},
   "outputs": [
    {
     "output_type": "stream",
     "name": "stdout",
     "text": [
      "                       She sells seashells on the seashore;\n                The shells that she sells are seashells I'm sure.\n                    So if she sells seashells on the seashore,\n                  I'm sure that the shells are seashore shells.\n"
     ]
    }
   ],
   "source": [
    "# Problem 42: Write a program center_align.py to center align all lines in the given file.\n",
    "\n",
    "# center_align.py\n",
    "import sys\n",
    "# f = sys.argv[1]\n",
    "f = 'she.txt'\n",
    "lines = open(f).readlines()\n",
    "for e in lines:\n",
    "    print(' '*(40-len(e)//2),e,end='')\n",
    "\n",
    "# $ python center_align.py she.txt"
   ]
  },
  {
   "cell_type": "code",
   "execution_count": null,
   "metadata": {},
   "outputs": [],
   "source": []
  }
 ]
}