{
 "cells": [
  {
   "cell_type": "markdown",
   "metadata": {},
   "source": [
    "# Python Practice Book#\n",
    "## 41-50#\n",
    "\n",
    "### นาย รุจดนัย รัตน์สำราญ 6310301028###"
   ]
  },
  {
   "cell_type": "markdown",
   "metadata": {},
   "source": [
    "#Problem41"
   ]
  },
  {
   "cell_type": "code",
   "execution_count": 7,
   "metadata": {},
   "outputs": [
    {
     "name": "stdout",
     "output_type": "stream",
     "text": [
      "cat she.txtShe sells seashells on theThe shells that she sells\n",
      "sells\n",
      " are seashells I'm sure.\n",
      "sure.\n",
      "So if she sells seashells\n",
      "seashells\n",
      " on the seashore,\n",
      "seashore,\n",
      "I'm sure that the shells\n",
      "shells\n",
      " are seashore shells.\n",
      "shells.\n",
      "python reverse.py she.txt\n",
      "she.txt\n",
      "I'm sure that the shells\n",
      "shells\n",
      " are seashore shells.\n",
      "shells.\n",
      "So if she sells seashells\n",
      "seashells\n",
      " on the seashore,\n",
      "seashore,\n",
      "The shells that she sells\n",
      "sells\n",
      " are seashells I'm sure.\n",
      "sure.\n",
      "She sells seashells on the"
     ]
    }
   ],
   "source": [
    "import sys\n",
    "# f= sys.argv[1]\n",
    "#c = int(sys.argv[2])\n",
    "f = 'she.txt'\n",
    "c = int('30')\n",
    "line = open(f).readlines()\n",
    "for e in line:\n",
    "    e,a = e.split(),0\n",
    "    for i in e:\n",
    "        if a == 0 :\n",
    "            a += len(i)\n",
    "            print(i,end='')\n",
    "        elif a > 0 and a + len(i) < c:\n",
    "                a += len(i)+1\n",
    "                print(' '+i,end='')\n",
    "                if a + len(i) >= c:\n",
    "                    print('\\n'+i,end='')\n",
    "                    a = len(i)\n",
    "                    print()"
   ]
  },
  {
   "cell_type": "markdown",
   "metadata": {},
   "source": [
    "#Problem42"
   ]
  },
  {
   "cell_type": "code",
   "execution_count": 8,
   "metadata": {},
   "outputs": [
    {
     "name": "stdout",
     "output_type": "stream",
     "text": [
      "                                   cat she.txt\n",
      "                       She sells seashells on the seashore;\n",
      "                The shells that she sells are seashells I'm sure.\n",
      "                    So if she sells seashells on the seashore,\n",
      "                  I'm sure that the shells are seashore shells.\n",
      "                             python reverse.py she.txt\n",
      "                  I'm sure that the shells are seashore shells.\n",
      "                    So if she sells seashells on the seashore,\n",
      "                The shells that she sells are seashells I'm sure.\n",
      "                       She sells seashells on the seashore;"
     ]
    }
   ],
   "source": [
    "import sys\n",
    "# f = sys.argv[1]\n",
    "f = 'she.txt'\n",
    "lines = open(f).readlines()\n",
    "for e in lines:\n",
    "    print(' '*(40-len(e)//2),e,end='')"
   ]
  },
  {
   "cell_type": "markdown",
   "metadata": {},
   "source": [
    "#Problem43"
   ]
  },
  {
   "cell_type": "code",
   "execution_count": 3,
   "metadata": {},
   "outputs": [
    {
     "data": {
      "text/plain": [
       "[[1, 'a'], [2, 'b'], [3, 'c']]"
      ]
     },
     "execution_count": 3,
     "metadata": {},
     "output_type": "execute_result"
    }
   ],
   "source": [
    "def izip(a,b):\n",
    "    return [[a[i],b[i]] for i in range(len(a))]\n",
    "\n",
    "izip([1, 2, 3], [\"a\", \"b\", \"c\"])"
   ]
  },
  {
   "cell_type": "markdown",
   "metadata": {},
   "source": [
    "#Problem44"
   ]
  },
  {
   "cell_type": "code",
   "execution_count": 9,
   "metadata": {},
   "outputs": [
    {
     "data": {
      "text/plain": [
       "[0, 1, 4, 9, 16]"
      ]
     },
     "execution_count": 9,
     "metadata": {},
     "output_type": "execute_result"
    }
   ],
   "source": [
    "def myMap(f,l):\n",
    "    return [f(i) for i in l]\n",
    "def square(x):\n",
    "    return x * x\n",
    "myMap(square, range(5))"
   ]
  },
  {
   "cell_type": "markdown",
   "metadata": {},
   "source": [
    "#Problem45"
   ]
  },
  {
   "cell_type": "code",
   "execution_count": 10,
   "metadata": {},
   "outputs": [
    {
     "data": {
      "text/plain": [
       "[0, 2, 4, 6, 8]"
      ]
     },
     "execution_count": 10,
     "metadata": {},
     "output_type": "execute_result"
    }
   ],
   "source": [
    "def filter1(f,l):\n",
    "    return [e for e in l if f(e)]\n",
    "def even(x):\n",
    "    return x %2 == 0\n",
    "filter1(even, range(10))"
   ]
  },
  {
   "cell_type": "markdown",
   "metadata": {},
   "source": [
    "#Problem46"
   ]
  },
  {
   "cell_type": "code",
   "execution_count": 11,
   "metadata": {},
   "outputs": [
    {
     "data": {
      "text/plain": [
       "[(1, 1, 2), (1, 2, 3), (1, 3, 4), (1, 4, 5), (2, 2, 4), (2, 3, 5)]"
      ]
     },
     "execution_count": 11,
     "metadata": {},
     "output_type": "execute_result"
    }
   ],
   "source": [
    "def triplets(n):\n",
    "    return [(x,y,z) for x in range(1,n) for y in range(x,n) for z in range(y,n) if x+y==z]\n",
    "triplets(6)"
   ]
  },
  {
   "cell_type": "markdown",
   "metadata": {},
   "source": [
    "#Problem47"
   ]
  },
  {
   "cell_type": "code",
   "execution_count": 12,
   "metadata": {},
   "outputs": [
    {
     "name": "stdout",
     "output_type": "stream",
     "text": [
      "0 a\n",
      "1 b\n",
      "2 c\n"
     ]
    }
   ],
   "source": [
    "def myEnumerate(l):\n",
    "    return [(i,l[i]) for i in range(len(l))]\n",
    "myEnumerate([\"a\", \"b\", \"c\"])\n",
    "for index, value in myEnumerate([\"a\", \"b\", \"c\"]):\n",
    "    print( index, value)"
   ]
  },
  {
   "cell_type": "markdown",
   "metadata": {},
   "source": [
    "#Problem48"
   ]
  },
  {
   "cell_type": "code",
   "execution_count": 13,
   "metadata": {},
   "outputs": [
    {
     "name": "stdout",
     "output_type": "stream",
     "text": [
      "[[None, None, None], [None, None, None], [None, None, None], [None, None, None]]\n",
      "[[5, None, None], [None, None, None], [None, None, None], [None, None, None]]\n"
     ]
    }
   ],
   "source": [
    "def array(x,y):\n",
    "    return [[None]*y for i in range(x)]\n",
    "a = array(4, 3)\n",
    "print(a)\n",
    "a[0][0] = 5\n",
    "print(a)"
   ]
  },
  {
   "cell_type": "markdown",
   "metadata": {},
   "source": [
    "#Problem49"
   ]
  },
  {
   "cell_type": "code",
   "execution_count": 19,
   "metadata": {},
   "outputs": [
    {
     "data": {
      "text/plain": [
       "[['a', 'b', 'c'], ['1', '2', '3'], ['2', '3', '4'], ['3', '4', '5']]"
      ]
     },
     "execution_count": 19,
     "metadata": {},
     "output_type": "execute_result"
    }
   ],
   "source": [
    "def parse_csv(f):\n",
    "    lines = open(f).readlines()\n",
    "    return [[i for i in e.strip().split(',')] for e in lines]\n",
    "\n",
    "parse_csv('a.csv')\n"
   ]
  },
  {
   "cell_type": "markdown",
   "metadata": {},
   "source": [
    "#Problem50"
   ]
  },
  {
   "cell_type": "code",
   "execution_count": 21,
   "metadata": {},
   "outputs": [
    {
     "data": {
      "text/plain": [
       "[['a', 'b', 'c', ''],\n",
       " ['1', '2', '3', ''],\n",
       " ['2', '3', '4', ''],\n",
       " ['3', '4', '5', '']]"
      ]
     },
     "execution_count": 21,
     "metadata": {},
     "output_type": "execute_result"
    }
   ],
   "source": [
    "def parse(f,s,c):\n",
    "    lines = open(f).readlines()\n",
    "    return [ e.split(c)[0].strip().split(s) for e in lines]\n",
    "    \n",
    "parse('a.txt', '!', '#')"
   ]
  },
  {
   "cell_type": "code",
   "execution_count": null,
   "metadata": {},
   "outputs": [],
   "source": []
  }
 ],
 "metadata": {
  "kernelspec": {
   "display_name": "Python 3",
   "language": "python",
   "name": "python3"
  }
 },
 "nbformat": 4,
 "nbformat_minor": 4
}
